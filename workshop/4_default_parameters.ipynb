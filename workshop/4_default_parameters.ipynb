{
 "cells": [
  {
   "attachments": {},
   "cell_type": "markdown",
   "metadata": {},
   "source": [
    "## Parámetros por defecto\n",
    "\n",
    "Los parámetros por defecto en JavaScript permiten establecer valores predeterminados para los parámetros de una función. Esto es útil cuando deseamos asignar un valor predefinido a un parámetro en caso de que no se proporcione ningún valor al llamar a la función.\n",
    "\n",
    "### Estableciendo valores por defecto para los parámetros de una función:"
   ]
  },
  {
   "cell_type": "code",
   "execution_count": null,
   "metadata": {
    "vscode": {
     "languageId": "javascript"
    }
   },
   "outputs": [],
   "source": [
    "const greet (name = \"amigo\") => {\n",
    "    console.log(\"Hola, \" + name + \"!\");\n",
    "  }\n",
    "  \n",
    "  greet(); // Salida: Hola, amigo!\n",
    "  greet(\"Juan\"); // Salida: Hola, Juan!\n",
    "  "
   ]
  },
  {
   "attachments": {},
   "cell_type": "markdown",
   "metadata": {},
   "source": [
    "### Evitando valores indefinidos utilizando parámetros por defecto:\n"
   ]
  },
  {
   "cell_type": "code",
   "execution_count": null,
   "metadata": {
    "vscode": {
     "languageId": "javascript"
    }
   },
   "outputs": [],
   "source": [
    "const multiply = (a, b = 1) => a * b;\n",
    "  \n",
    "  console.log(multiply(5)); // Salida: 5\n",
    "  console.log(multiply(3, 4)); // Salida: 12\n",
    "  "
   ]
  }
 ],
 "metadata": {
  "language_info": {
   "name": "python"
  },
  "orig_nbformat": 4
 },
 "nbformat": 4,
 "nbformat_minor": 2
}
