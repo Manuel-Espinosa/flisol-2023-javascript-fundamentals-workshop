{
 "cells": [
  {
   "attachments": {},
   "cell_type": "markdown",
   "metadata": {},
   "source": [
    "## Métodos y Funciones Flecha\n",
    "\n",
    "### Introducción a las funciones flecha y sus ventajas\n",
    "\n",
    "Las funciones flecha, también conocidas como funciones de flecha, son una característica introducida en ECMAScript 6 (ES6) que proporciona una sintaxis más concisa para escribir funciones en JavaScript. Estas funciones ofrecen varias ventajas:\n",
    "\n",
    "1. Sintaxis concisa: La sintaxis de las funciones flecha es más corta y clara en comparación con las funciones regulares, lo que las hace más fáciles de leer y escribir.\n",
    "\n",
    "2. Contexto léxico: Las funciones flecha heredan el contexto léxico del ámbito exterior, lo que significa que utilizan el valor `this` del ámbito que las rodea. Esto evita confusiones y errores comunes asociados con el uso de `this` en las funciones regulares.\n",
    "\n",
    "### Escribiendo funciones concisas utilizando la sintaxis de funciones flecha\n",
    "\n",
    "La sintaxis básica de una función flecha es la siguiente:\n",
    "\n",
    "```javascript\n",
    "const arrowFunction = () => {\n",
    "  // Cuerpo de la función\n",
    "};\n",
    "\n",
    "Ejemplo de funcion flecha"
   ]
  },
  {
   "cell_type": "code",
   "execution_count": null,
   "metadata": {},
   "outputs": [],
   "source": [
    "const addNumbers = (a,b) => {\n",
    "    return a+b;\n",
    "};\n",
    "\n",
    "addNumbers(7,9);\n",
    "  "
   ]
  },
  {
   "attachments": {},
   "cell_type": "markdown",
   "metadata": {},
   "source": [
    "## Uso de funciones flecha con retorno implícito y explícito\n",
    "\n",
    "Las funciones flecha pueden tener un retorno implícito o explícito.\n",
    "\n",
    "1. Retorno implícito: Si el cuerpo de la función flecha consta de una única expresión, se puede omitir la palabra clave return. El valor de la expresión se considerará el valor de retorno de la función.\n",
    "\n",
    "Ejemplo de una función flecha con retorno implícito que calcula el doble de un número:"
   ]
  },
  {
   "cell_type": "code",
   "execution_count": null,
   "metadata": {},
   "outputs": [],
   "source": [
    "const multNumbers = (a,b) => a*b;\n",
    "\n",
    "multNumbers(4,6);"
   ]
  },
  {
   "attachments": {},
   "cell_type": "markdown",
   "metadata": {},
   "source": [
    "2. Retorno explícito: Si el cuerpo de la función flecha tiene múltiples expresiones o requiere más lógica, se puede utilizar la sintaxis de bloque con la palabra clave return para especificar el valor de retorno de la función.\n",
    "   \n",
    "Ejemplo de una función flecha con retorno explícito que verifica si un número es par:"
   ]
  },
  {
   "cell_type": "code",
   "execution_count": null,
   "metadata": {},
   "outputs": [],
   "source": [
    "const isEven = (n) => {\n",
    "    if (n % 2 === 0) {\n",
    "      return true;\n",
    "    } else {\n",
    "      return false;\n",
    "    }\n",
    "  };\n",
    "\n",
    "  isEven(2);"
   ]
  }
 ],
 "metadata": {
  "kernelspec": {
   "display_name": "JavaScript (Node.js)",
   "language": "javascript",
   "name": "javascript"
  },
  "language_info": {
   "file_extension": ".js",
   "mimetype": "application/javascript",
   "name": "javascript",
   "version": "12.22.9"
  },
  "orig_nbformat": 4
 },
 "nbformat": 4,
 "nbformat_minor": 2
}
