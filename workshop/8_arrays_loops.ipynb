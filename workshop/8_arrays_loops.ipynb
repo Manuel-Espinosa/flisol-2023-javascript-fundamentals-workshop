{
 "cells": [
  {
   "attachments": {},
   "cell_type": "markdown",
   "metadata": {},
   "source": [
    "## Arreglos en JavaScript\n",
    "\n",
    "Los arreglos, también conocidos como arrays, son estructuras de datos que permiten almacenar y organizar múltiples valores en una sola variable. En JavaScript, los arreglos son objetos especiales que ofrecen métodos y propiedades para trabajar con conjuntos de elementos.\n",
    "\n",
    "### Crear un arreglo\n",
    "\n",
    "Utiliza corchetes [] para crear un arreglo vacío: \n"
   ]
  },
  {
   "cell_type": "code",
   "execution_count": 12,
   "metadata": {},
   "outputs": [
    {
     "ename": "SyntaxError",
     "evalue": "Identifier 'arreglo' has already been declared",
     "output_type": "error",
     "traceback": [
      "evalmachine.<anonymous>:1",
      "const arreglo = [];",
      "^",
      "",
      "SyntaxError: Identifier 'arreglo' has already been declared",
      "    at evalmachine.<anonymous>:1:1",
      "    at Script.runInThisContext (vm.js:120:18)",
      "    at Object.runInThisContext (vm.js:309:38)",
      "    at run ([eval]:1020:15)",
      "    at onRunRequest ([eval]:864:18)",
      "    at onMessage ([eval]:828:13)",
      "    at process.emit (events.js:314:20)",
      "    at emit (internal/child_process.js:877:12)",
      "    at processTicksAndRejections (internal/process/task_queues.js:85:21)"
     ]
    }
   ],
   "source": [
    "const arreglo = [];"
   ]
  },
  {
   "attachments": {},
   "cell_type": "markdown",
   "metadata": {},
   "source": [
    "Puedes inicializar un arreglo con elementos predefinidos: "
   ]
  },
  {
   "cell_type": "code",
   "execution_count": null,
   "metadata": {},
   "outputs": [],
   "source": [
    "const numeros = [1, 2, 3, 4, 5];"
   ]
  },
  {
   "attachments": {},
   "cell_type": "markdown",
   "metadata": {},
   "source": [
    "### Acceder a elementos de un arreglo\n",
    "Usa la notación de corchetes y el índice del elemento para acceder a su valor: \n"
   ]
  },
  {
   "cell_type": "code",
   "execution_count": null,
   "metadata": {},
   "outputs": [],
   "source": [
    "const primerElemento = numeros[0];"
   ]
  },
  {
   "attachments": {},
   "cell_type": "markdown",
   "metadata": {},
   "source": [
    "Los índices de los arreglos en JavaScript comienzan en 0, por lo que el primer elemento tiene índice 0."
   ]
  },
  {
   "attachments": {},
   "cell_type": "markdown",
   "metadata": {},
   "source": [
    "![Index](https://qph.cf2.quoracdn.net/main-qimg-8b306b4c6d47bbafe378924ab42d24ba.webp)"
   ]
  },
  {
   "attachments": {},
   "cell_type": "markdown",
   "metadata": {},
   "source": [
    "## Modificar elementos de un arreglo\n",
    "Asigna un nuevo valor a un elemento utilizando la notación de corchetes y el índice correspondiente: \n"
   ]
  },
  {
   "cell_type": "code",
   "execution_count": null,
   "metadata": {},
   "outputs": [
    {
     "data": {
      "text/plain": [
       "10"
      ]
     },
     "execution_count": 4,
     "metadata": {},
     "output_type": "execute_result"
    }
   ],
   "source": [
    "numeros[0] = 10;"
   ]
  },
  {
   "attachments": {},
   "cell_type": "markdown",
   "metadata": {},
   "source": [
    "## Propiedades y métodos de los arreglos\n",
    "\n",
    "- length: Propiedad que devuelve la cantidad de elementos en el arreglo (longitud).\n"
   ]
  },
  {
   "cell_type": "code",
   "execution_count": null,
   "metadata": {},
   "outputs": [
    {
     "name": "stdout",
     "output_type": "stream",
     "text": [
      "3\n"
     ]
    }
   ],
   "source": [
    "let fruits = ['apple', 'banana', 'orange'];\n",
    "console.log(fruits.length); // Output: 3"
   ]
  },
  {
   "attachments": {},
   "cell_type": "markdown",
   "metadata": {},
   "source": [
    "- push(): Método que agrega uno o más elementos al final del arreglo."
   ]
  },
  {
   "cell_type": "code",
   "execution_count": null,
   "metadata": {},
   "outputs": [
    {
     "name": "stdout",
     "output_type": "stream",
     "text": [
      "[ 'apple', 'banana', 'orange' ]\n"
     ]
    }
   ],
   "source": [
    " fruits = ['apple', 'banana'];\n",
    "fruits.push('orange');\n",
    "console.log(fruits); // Output: ['apple', 'banana', 'orange']\n"
   ]
  },
  {
   "attachments": {},
   "cell_type": "markdown",
   "metadata": {},
   "source": [
    "- pop(): Método que elimina el último elemento del arreglo y lo devuelve."
   ]
  },
  {
   "cell_type": "code",
   "execution_count": null,
   "metadata": {},
   "outputs": [
    {
     "name": "stdout",
     "output_type": "stream",
     "text": [
      "orange\n",
      "[ 'apple', 'banana' ]\n"
     ]
    }
   ],
   "source": [
    " fruits = ['apple', 'banana', 'orange'];\n",
    "const lastFruit = fruits.pop();\n",
    "console.log(lastFruit); // Output: 'orange'\n",
    "console.log(fruits); // Output: ['apple', 'banana']\n"
   ]
  },
  {
   "attachments": {},
   "cell_type": "markdown",
   "metadata": {},
   "source": [
    "- shift(): Método que elimina el primer elemento del arreglo y lo devuelve.\n"
   ]
  },
  {
   "cell_type": "code",
   "execution_count": null,
   "metadata": {},
   "outputs": [
    {
     "name": "stdout",
     "output_type": "stream",
     "text": [
      "apple\n",
      "[ 'banana', 'orange' ]\n"
     ]
    }
   ],
   "source": [
    " fruits = ['apple', 'banana', 'orange'];\n",
    "const firstFruit = fruits.shift();\n",
    "console.log(firstFruit); // Output: 'apple'\n",
    "console.log(fruits); // Output: ['banana', 'orange']"
   ]
  },
  {
   "attachments": {},
   "cell_type": "markdown",
   "metadata": {},
   "source": [
    "- unshift(): Método que agrega uno o más elementos al inicio del arreglo."
   ]
  },
  {
   "cell_type": "code",
   "execution_count": null,
   "metadata": {},
   "outputs": [
    {
     "name": "stdout",
     "output_type": "stream",
     "text": [
      "[ 'apple', 'banana', 'orange' ]\n"
     ]
    }
   ],
   "source": [
    " fruits = ['banana', 'orange'];\n",
    "fruits.unshift('apple');\n",
    "console.log(fruits); // Output: ['apple', 'banana', 'orange']\n"
   ]
  },
  {
   "attachments": {},
   "cell_type": "markdown",
   "metadata": {},
   "source": [
    "### Recorrer un arreglo \n",
    "En este ejemplo, tenemos un arreglo llamado numbers con varios elementos. Utilizamos un bucle for para iterar sobre cada elemento del arreglo. La variable i se utiliza como un contador que comienza en 0 y se incrementa en cada iteración hasta que sea igual a la longitud del arreglo (numbers.length). En cada iteración, accedemos al elemento en la posición i del arreglo y lo mostramos en la consola.\n"
   ]
  },
  {
   "cell_type": "code",
   "execution_count": null,
   "metadata": {},
   "outputs": [
    {
     "name": "stdout",
     "output_type": "stream",
     "text": [
      "1\n",
      "2\n",
      "3\n",
      "4\n",
      "5\n"
     ]
    }
   ],
   "source": [
    "const numbers = [1, 2, 3, 4, 5];\n",
    "\n",
    "for (let i = 0; i < numbers.length; i++) {\n",
    "  console.log(numbers[i]);\n",
    "}"
   ]
  },
  {
   "attachments": {},
   "cell_type": "markdown",
   "metadata": {},
   "source": [
    "En este caso, tenemos un arreglo de frutas con cuatro elementos. Utilizamos un bucle while para recorrer el arreglo. En cada iteración, mostramos en la consola el elemento en la posición i del arreglo fruits, y luego incrementamos i en 1."
   ]
  },
  {
   "cell_type": "code",
   "execution_count": null,
   "metadata": {},
   "outputs": [
    {
     "name": "stdout",
     "output_type": "stream",
     "text": [
      "apple\n",
      "banana\n",
      "orange\n",
      "mango\n"
     ]
    },
    {
     "data": {
      "text/plain": [
       "3"
      ]
     },
     "execution_count": 11,
     "metadata": {},
     "output_type": "execute_result"
    }
   ],
   "source": [
    " fruits = [\"apple\", \"banana\", \"orange\", \"mango\"];\n",
    "\n",
    "let j = 0;\n",
    "while (j < fruits.length) {\n",
    "  console.log(fruits[j]);\n",
    "  j++;\n",
    "}\n"
   ]
  }
 ],
 "metadata": {
  "kernelspec": {
   "display_name": "JavaScript (Node.js)",
   "language": "javascript",
   "name": "javascript"
  },
  "language_info": {
   "file_extension": ".js",
   "mimetype": "application/javascript",
   "name": "javascript",
   "version": "12.22.9"
  },
  "orig_nbformat": 4
 },
 "nbformat": 4,
 "nbformat_minor": 2
}
