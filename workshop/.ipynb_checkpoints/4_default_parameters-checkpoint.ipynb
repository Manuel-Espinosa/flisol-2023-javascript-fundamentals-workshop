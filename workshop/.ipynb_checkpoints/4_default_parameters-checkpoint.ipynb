{
 "cells": [
  {
   "cell_type": "markdown",
   "metadata": {},
   "source": [
    "## Parámetros por defecto\n",
    "\n",
    "Los parámetros por defecto en JavaScript permiten establecer valores predeterminados para los parámetros de una función. Esto es útil cuando deseamos asignar un valor predefinido a un parámetro en caso de que no se proporcione ningún valor al llamar a la función.\n",
    "\n",
    "### Estableciendo valores por defecto para los parámetros de una función:"
   ]
  },
  {
   "cell_type": "code",
   "execution_count": null,
   "metadata": {
    "vscode": {
     "languageId": "javascript"
    }
   },
   "outputs": [],
   "source": [
    "const greet (name = \"amigo\") => {\n",
    "    console.log(\"Hola, \" + name + \"!\");\n",
    "  }\n",
    "  \n",
    "  greet(); // Salida: Hola, amigo!\n",
    "  greet(\"Juan\"); // Salida: Hola, Juan!\n",
    "  "
   ]
  },
  {
   "cell_type": "markdown",
   "metadata": {},
   "source": [
    "### Evitando valores indefinidos utilizando parámetros por defecto:\n"
   ]
  },
  {
   "cell_type": "code",
   "execution_count": null,
   "metadata": {
    "vscode": {
     "languageId": "javascript"
    }
   },
   "outputs": [],
   "source": [
    "const multiply = (a, b = 1) => a * b;\n",
    "  \n",
    "  console.log(multiply(5)); // Salida: 5\n",
    "  console.log(multiply(3, 4)); // Salida: 12\n",
    "  "
   ]
  }
 ],
 "metadata": {
  "kernelspec": {
   "display_name": "Python 3 (ipykernel)",
   "language": "python",
   "name": "python3"
  },
  "language_info": {
   "codemirror_mode": {
    "name": "ipython",
    "version": 3
   },
   "file_extension": ".py",
   "mimetype": "text/x-python",
   "name": "python",
   "nbconvert_exporter": "python",
   "pygments_lexer": "ipython3",
   "version": "3.10.6"
  }
 },
 "nbformat": 4,
 "nbformat_minor": 2
}
