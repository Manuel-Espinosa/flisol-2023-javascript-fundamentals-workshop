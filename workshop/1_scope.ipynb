{
 "cells": [
  {
   "cell_type": "markdown",
   "id": "621a0fd9",
   "metadata": {},
   "source": [
    "# INTRODUCCIÓN A JAVASCRIPT\n",
    "\n",
    "## JavaScript Variables\n",
    "\n",
    "En JavaScript, las variables son contenedores utilizados para almacenar valores. En ES6, se introdujeron nuevas formas de declarar variables: `let` y `const`, que ofrecen un mejor control sobre el alcance de las variables.\n",
    "\n",
    "## Scope de las variables\n",
    "\n",
    "En JavaScript, el scope de una variable determina dónde puede accederse y utilizarse. Hay dos tipos de scope: global y local.\n",
    "\n",
    "- Scope global: Una variable declarada fuera de cualquier función tiene scope global. Puede accederse y modificarse desde cualquier parte del código.\n",
    "- Scope local: Una variable declarada dentro de una función tiene alcance scope. Solo puede accederse y modificarse dentro de la función en la que se declaró.\n",
    "\n",
    "Ejemplo de scope global:"
   ]
  },
  {
   "cell_type": "code",
   "execution_count": 2,
   "id": "ddefb92b",
   "metadata": {},
   "outputs": [
    {
     "name": "stdout",
     "output_type": "stream",
     "text": [
      "Soy global\n"
     ]
    }
   ],
   "source": [
    "let globalVariable = 'Soy global';\n",
    "\n",
    "function myFun() {\n",
    "  console.log(globalVariable); // Acceso a la variable global\n",
    "}\n",
    "\n",
    "myFun();// Imprime \"Soy global\""
   ]
  },
  {
   "cell_type": "markdown",
   "id": "d69083bc",
   "metadata": {},
   "source": [
    "Ejemplo de alcance local:"
   ]
  },
  {
   "cell_type": "code",
   "execution_count": 3,
   "id": "e2c47f01",
   "metadata": {},
   "outputs": [
    {
     "name": "stdout",
     "output_type": "stream",
     "text": [
      "Soy local\n"
     ]
    }
   ],
   "source": [
    "function myFun() {\n",
    "  let localVariable = 'Soy local';\n",
    "  console.log(localVariable); // Acceso a la variable local\n",
    "}\n",
    "\n",
    "myFun(); // Imprime \"Soy local\"\n"
   ]
  },
  {
   "cell_type": "markdown",
   "id": "92bf99b4",
   "metadata": {},
   "source": [
    "Intentando usar una variable local en un contexto global"
   ]
  },
  {
   "cell_type": "code",
   "execution_count": 5,
   "id": "0ea43719",
   "metadata": {},
   "outputs": [
    {
     "ename": "ReferenceError",
     "evalue": "age is not defined",
     "output_type": "error",
     "traceback": [
      "evalmachine.<anonymous>:4",
      "console.log(age) //Accediendo a la variable local desde un contexto global",
      "            ^",
      "",
      "ReferenceError: age is not defined",
      "    at evalmachine.<anonymous>:4:13",
      "    at Script.runInThisContext (vm.js:120:18)",
      "    at Object.runInThisContext (vm.js:309:38)",
      "    at run ([eval]:1020:15)",
      "    at onRunRequest ([eval]:864:18)",
      "    at onMessage ([eval]:828:13)",
      "    at process.emit (events.js:314:20)",
      "    at emit (internal/child_process.js:877:12)",
      "    at processTicksAndRejections (internal/process/task_queues.js:85:21)"
     ]
    }
   ],
   "source": [
    "function foo(){\n",
    "    let age = 10;\n",
    "}\n",
    "console.log(age) //Accediendo a la variable local desde un contexto global"
   ]
  },
  {
   "cell_type": "markdown",
   "id": "84bc6780",
   "metadata": {},
   "source": [
    "Obtenemos: **ReferenceError: `age` is not defined**"
   ]
  }
 ],
 "metadata": {
  "kernelspec": {
   "display_name": "JavaScript (Node.js)",
   "language": "javascript",
   "name": "javascript"
  },
  "language_info": {
   "file_extension": ".js",
   "mimetype": "application/javascript",
   "name": "javascript",
   "version": "12.22.9"
  }
 },
 "nbformat": 4,
 "nbformat_minor": 5
}
