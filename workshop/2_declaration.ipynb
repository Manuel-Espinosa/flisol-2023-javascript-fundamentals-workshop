{
 "cells": [
  {
   "cell_type": "markdown",
   "metadata": {},
   "source": [
    "## Declaración de variables\n",
    "\n",
    "En ES6, podemos utilizar las palabras clave let y const para declarar variables. Estas palabras clave tienen algunas diferencias importantes en términos de alcance y mutabilidad.\n",
    "\n",
    "- let: Se utiliza para declarar variables que pueden ser reasignadas. Las variables declaradas con let tienen alcance de bloque.\n",
    "- const: Se utiliza para declarar variables cuyo valor no puede ser reasignado una vez que se les ha asignado un valor inicial. Las variables declaradas con const también tienen alcance de bloque.\n"
   ]
  },
  {
   "cell_type": "code",
   "execution_count": 1,
   "metadata": {},
   "outputs": [
    {
     "name": "stdout",
     "output_type": "stream",
     "text": [
      "Reasignada\n"
     ]
    }
   ],
   "source": [
    "\n",
    "let value = 'Inicial';\n",
    "value = 'Reasignada';\n",
    "console.log(value); // Imprime \"Reasignada\""
   ]
  },
  {
   "cell_type": "code",
   "execution_count": 2,
   "metadata": {},
   "outputs": [
    {
     "ename": "TypeError",
     "evalue": "Assignment to constant variable.",
     "output_type": "error",
     "traceback": [
      "evalmachine.<anonymous>:3",
      "PI = 3.0; ",
      "   ^",
      "",
      "TypeError: Assignment to constant variable.",
      "    at evalmachine.<anonymous>:3:4",
      "    at Script.runInThisContext (vm.js:120:18)",
      "    at Object.runInThisContext (vm.js:309:38)",
      "    at run ([eval]:1020:15)",
      "    at onRunRequest ([eval]:864:18)",
      "    at onMessage ([eval]:828:13)",
      "    at process.emit (events.js:314:20)",
      "    at emit (internal/child_process.js:877:12)",
      "    at processTicksAndRejections (internal/process/task_queues.js:85:21)"
     ]
    }
   ],
   "source": [
    "\n",
    "const PI = 3.1416;\n",
    "PI = 3.0; \n",
    "console.log(PI);// Error: no se puede reasignar\n"
   ]
  },
  {
   "attachments": {},
   "cell_type": "markdown",
   "metadata": {},
   "source": [
    "Obtenemos: **TypeError: Assignment to constant variable.**"
   ]
  },
  {
   "cell_type": "markdown",
   "metadata": {},
   "source": [
    "## Diferencias entre var, let y const\n",
    "\n",
    "En JavaScript, existen tres formas de declarar variables: `var`, `let` y `const`. Cada una tiene sus propias características y uso.\n",
    "\n",
    "### var\n",
    "\n",
    "- `var` es la forma antigua de declarar variables en JavaScript.\n",
    "- Las variables declaradas con `var` tienen alcance de función o alcance global, lo que significa que son accesibles en toda la función o en todo el programa.\n",
    "- Las variables `var` pueden ser redeclaradas y reasignadas.\n",
    "- El comportamiento de elevación (hoisting) mueve las declaraciones de variables hacia arriba en su ámbito. Esto significa que puedes acceder y utilizar una variable antes de que se declare cuando usas `var`.\n",
    "\n",
    "### let\n",
    "\n",
    "- `let` es una forma más nueva de declarar variables introducida en ES6.\n",
    "- Las variables declaradas con `let` tienen alcance de bloque, lo que significa que solo son accesibles dentro del bloque más cercano.\n",
    "- Las variables `let` pueden ser reasignadas, pero no pueden ser redeclaradas dentro del mismo ámbito.\n",
    "- El comportamiento de elevación (hoisting) no se aplica a las variables `let`. Deben ser declaradas antes de ser utilizadas.\n",
    "\n",
    "### const\n",
    "\n",
    "- `const` también fue introducida en ES6 y representa constante.\n",
    "- Las variables declaradas con `const` tienen alcance de bloque y no pueden ser reasignadas después de haberles asignado un valor inicial.\n",
    "- Las variables `const` deben ser asignadas con un valor al momento de la declaración y no pueden quedarse sin inicializar.\n",
    "- Al igual que `let`, las variables `const` no son elevadas (hoisted) y deben ser declaradas antes de ser utilizadas.\n",
    "\n",
    "Se recomienda utilizar `const` para variables que no necesitan ser reasignadas, y `let` para variables que requieren reasignación. `var` se utiliza raramente en el desarrollo moderno de JavaScript debido a sus peculiaridades de alcance y elevación.\n",
    "\n",
    "Recuerda elegir la declaración de variables adecuada según tu caso de uso específico."
   ]
  }
 ],
 "metadata": {
  "kernelspec": {
   "display_name": "JavaScript (Node.js)",
   "language": "javascript",
   "name": "javascript"
  },
  "language_info": {
   "file_extension": ".js",
   "mimetype": "application/javascript",
   "name": "javascript",
   "version": "12.22.9"
  },
  "orig_nbformat": 4
 },
 "nbformat": 4,
 "nbformat_minor": 2
}
