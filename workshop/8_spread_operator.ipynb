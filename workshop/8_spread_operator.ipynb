{
 "cells": [
  {
   "attachments": {},
   "cell_type": "markdown",
   "metadata": {},
   "source": [
    "## Operador de propagación\n",
    "El operador de propagación en JavaScript nos permite manipular fácilmente arrays y objetos. Con este operador, podemos expandir los elementos de un array u objeto y utilizarlos en diferentes contextos.\n",
    "\n",
    "### Utilizando el operador de propagación para manipular arrays y objetos:"
   ]
  },
  {
   "attachments": {},
   "cell_type": "markdown",
   "metadata": {},
   "source": [
    "#### Copiando un array\n"
   ]
  },
  {
   "cell_type": "code",
   "execution_count": 1,
   "metadata": {},
   "outputs": [
    {
     "name": "stdout",
     "output_type": "stream",
     "text": [
      "[ 1, 2, 3 ]\n"
     ]
    }
   ],
   "source": [
    "const array1 = [1, 2, 3];\n",
    "const array2 = [...array1];\n",
    "\n",
    "console.log(array2); // Salida: [1, 2, 3]"
   ]
  },
  {
   "attachments": {},
   "cell_type": "markdown",
   "metadata": {},
   "source": [
    "\n",
    "#### Fusionando arrays"
   ]
  },
  {
   "cell_type": "code",
   "execution_count": 2,
   "metadata": {},
   "outputs": [
    {
     "name": "stdout",
     "output_type": "stream",
     "text": [
      "[ 1, 2, 3, 4, 5, 6 ]\n"
     ]
    }
   ],
   "source": [
    "const array3 = [4, 5, 6];\n",
    "const mergedArray = [...array1, ...array3];\n",
    "\n",
    "console.log(mergedArray); // Salida: [1, 2, 3, 4, 5, 6]\n"
   ]
  },
  {
   "attachments": {},
   "cell_type": "markdown",
   "metadata": {},
   "source": [
    "\n",
    "#### Copiando un objeto"
   ]
  },
  {
   "cell_type": "code",
   "execution_count": 3,
   "metadata": {},
   "outputs": [
    {
     "name": "stdout",
     "output_type": "stream",
     "text": [
      "{ a: 1, b: 2 }\n"
     ]
    }
   ],
   "source": [
    "const obj1 = { a: 1, b: 2 };\n",
    "const obj2 = { ...obj1 };\n",
    "\n",
    "console.log(obj2); // Salida: { a: 1, b: 2 }\n"
   ]
  },
  {
   "attachments": {},
   "cell_type": "markdown",
   "metadata": {},
   "source": [
    "#### Fusionando objetos"
   ]
  },
  {
   "cell_type": "code",
   "execution_count": 4,
   "metadata": {},
   "outputs": [
    {
     "name": "stdout",
     "output_type": "stream",
     "text": [
      "{ a: 1, b: 2, c: 3, d: 4 }\n"
     ]
    }
   ],
   "source": [
    "const obj3 = { c: 3, d: 4 };\n",
    "const mergedObj = { ...obj1, ...obj3 };\n",
    "\n",
    "console.log(mergedObj); // Salida: { a: 1, b: 2, c: 3, d: 4 }"
   ]
  }
 ],
 "metadata": {
  "kernelspec": {
   "display_name": "JavaScript (Node.js)",
   "language": "javascript",
   "name": "javascript"
  },
  "language_info": {
   "file_extension": ".js",
   "mimetype": "application/javascript",
   "name": "javascript",
   "version": "12.22.9"
  },
  "orig_nbformat": 4
 },
 "nbformat": 4,
 "nbformat_minor": 2
}
