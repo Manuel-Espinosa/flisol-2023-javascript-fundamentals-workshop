{
 "cells": [
  {
   "attachments": {},
   "cell_type": "markdown",
   "metadata": {},
   "source": [
    "## Objetos en JavaScript\n",
    "En JavaScript, los objetos son una estructura de datos clave-valor que nos permite almacenar y acceder a información de manera organizada. Podemos construir objetos utilizando la siguiente sintaxis:\n"
   ]
  },
  {
   "cell_type": "code",
   "execution_count": null,
   "metadata": {
    "vscode": {
     "languageId": "javascript"
    }
   },
   "outputs": [],
   "source": [
    "const person = {\n",
    "  name: \"John\",\n",
    "  age: 30,\n",
    "  city: \"New York\",\n",
    "};"
   ]
  },
  {
   "attachments": {},
   "cell_type": "markdown",
   "metadata": {},
   "source": [
    "Aquí hemos creado un objeto llamado person con tres propiedades: name, age y city. Cada propiedad tiene un valor asociado.\n",
    "\n",
    "## Usando notación de punto\n",
    "Podemos acceder a las propiedades de un objeto utilizando la notación de punto (.). Por ejemplo:\n"
   ]
  },
  {
   "cell_type": "code",
   "execution_count": null,
   "metadata": {
    "vscode": {
     "languageId": "javascript"
    }
   },
   "outputs": [],
   "source": [
    "\n",
    "console.log(person.name);\n",
    "// Salida: \"John\""
   ]
  },
  {
   "attachments": {},
   "cell_type": "markdown",
   "metadata": {},
   "source": [
    "\n",
    "Utilizando objeto.propiedad, podemos obtener el valor de la propiedad nombre del objeto persona.\n",
    "\n",
    "## Utilizando notacion de corchetes\n",
    "También podemos acceder a las propiedades de un objeto utilizando la notación de corchetes ([]). Por ejemplo:\n"
   ]
  },
  {
   "cell_type": "code",
   "execution_count": null,
   "metadata": {
    "vscode": {
     "languageId": "javascript"
    }
   },
   "outputs": [],
   "source": [
    "\n",
    "console.log(person[\"age\"]);\n",
    "// Salida: 30"
   ]
  },
  {
   "attachments": {},
   "cell_type": "markdown",
   "metadata": {},
   "source": [
    "\n",
    "Al utilizar objeto[\"propiedad\"], podemos obtener el valor de la propiedad age del objeto person.\n",
    "\n",
    "## Accessing Object Properties with Variables\n",
    "Si queremos acceder a una propiedad de un objeto utilizando una variable, podemos combinar la notación de corchetes con variables. Por ejemplo:\n"
   ]
  },
  {
   "cell_type": "code",
   "execution_count": null,
   "metadata": {
    "vscode": {
     "languageId": "javascript"
    }
   },
   "outputs": [],
   "source": [
    "const propertyName = \"city\";\n",
    "console.log(person[propertyName]);\n",
    "// Salida: \"New York\""
   ]
  },
  {
   "attachments": {},
   "cell_type": "markdown",
   "metadata": {},
   "source": [
    "\n",
    "\n",
    "Aquí utilizamos la variable propertyName para acceder a la propiedad city del objeto person.\n",
    "\n",
    "## Actualizar propiedades de un objeto\n",
    "Podemos actualizar el valor de una propiedad de un objeto asignando un nuevo valor a esa propiedad. Por ejemplo:"
   ]
  },
  {
   "cell_type": "code",
   "execution_count": null,
   "metadata": {
    "vscode": {
     "languageId": "javascript"
    }
   },
   "outputs": [],
   "source": [
    "\n",
    "person.age = 35;\n",
    "console.log(person.age);\n",
    "// Salida: 35"
   ]
  },
  {
   "attachments": {},
   "cell_type": "markdown",
   "metadata": {},
   "source": [
    "Hemos actualizado el valor de la propiedad age del objeto person a 35.\n",
    "\n",
    "## Agregar propiedades a un objeto\n",
    "También podemos agregar nuevas propiedades a un objeto asignándoles un valor. Por ejemplo:\n"
   ]
  },
  {
   "cell_type": "code",
   "execution_count": null,
   "metadata": {
    "vscode": {
     "languageId": "javascript"
    }
   },
   "outputs": [],
   "source": [
    "person.gender = \"Male\";\n",
    "console.log(person.gender);\n",
    "// Salida: \"Male\""
   ]
  },
  {
   "attachments": {},
   "cell_type": "markdown",
   "metadata": {},
   "source": [
    "Hemos agregado la propiedad gender al objeto person con el valor \"Male\".\n",
    "\n",
    "## Eliminar una propiedad de un objeto\n",
    "Si queremos eliminar una propiedad de un objeto, podemos utilizar el operador delete. Por ejemplo:"
   ]
  },
  {
   "cell_type": "code",
   "execution_count": null,
   "metadata": {
    "vscode": {
     "languageId": "javascript"
    }
   },
   "outputs": [],
   "source": [
    "\n",
    "delete person.city;\n",
    "console.log(person.city);\n",
    "// Salida: undefined"
   ]
  },
  {
   "attachments": {},
   "cell_type": "markdown",
   "metadata": {},
   "source": [
    "Hemos eliminado la propiedad city del objeto person.\n",
    "\n",
    "Aquí hemos creado un objeto fruitPrices donde las claves son nombres de frutas y los valores son los precios correspondientes. Podemos utilizar el nombre de la fruta como clave para obtener su precio.\n",
    "\n",
    "## Testing de propiedades en un objeto\n",
    "Podemos verificar si un objeto tiene una determinada propiedad utilizando el operador in. Por ejemplo:\n"
   ]
  },
  {
   "cell_type": "code",
   "execution_count": null,
   "metadata": {
    "vscode": {
     "languageId": "javascript"
    }
   },
   "outputs": [],
   "source": [
    "\n",
    "console.log(\"name\" in person);\n",
    "// Salida: true\n",
    "console.log(\"occupation\" in person);\n",
    "// Salida: false"
   ]
  },
  {
   "attachments": {},
   "cell_type": "markdown",
   "metadata": {},
   "source": [
    "\n",
    "Aquí verificamos si el objeto person tiene las propiedades \"name\" y \"occupation\". El operador in devuelve true si la propiedad existe en el objeto y false si no.\n",
    "\n",
    "## Objetos anidados\n",
    "Los objetos en JavaScript pueden contener otros objetos como propiedades. Esto nos permite crear estructuras de datos complejas. Por ejemplo:"
   ]
  },
  {
   "cell_type": "code",
   "execution_count": null,
   "metadata": {
    "vscode": {
     "languageId": "javascript"
    }
   },
   "outputs": [],
   "source": [
    "\n",
    "const student = {\n",
    "  name: \"Jane\",\n",
    "  age: 25,\n",
    "  address: {\n",
    "    street: \"123 Main St\",\n",
    "    city: \"London\",\n",
    "    country: \"UK\",\n",
    "  },\n",
    "};\n",
    "\n",
    "console.log(student.address.city);\n",
    "// Salida: \"London\""
   ]
  },
  {
   "attachments": {},
   "cell_type": "markdown",
   "metadata": {},
   "source": [
    "Aquí hemos creado un objeto student que contiene la propiedad address, que a su vez es un objeto con sus propias propiedades."
   ]
  }
 ],
 "metadata": {
  "language_info": {
   "name": "python"
  },
  "orig_nbformat": 4
 },
 "nbformat": 4,
 "nbformat_minor": 2
}
