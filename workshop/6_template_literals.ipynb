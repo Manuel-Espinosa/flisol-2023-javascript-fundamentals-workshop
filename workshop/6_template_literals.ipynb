{
 "cells": [
  {
   "attachments": {},
   "cell_type": "markdown",
   "metadata": {},
   "source": [
    "## Template Literals\n",
    "Los template literals, también conocidos como template strings, son una característica de JavaScript que nos permite crear cadenas de texto dinámicas de manera más conveniente y legible. Los template literals utilizan la sintaxis de las comillas invertidas (backticks) en lugar de las comillas simples o dobles.\n",
    "\n",
    "#### Creando cadenas de texto dinámicas utilizando template literals:"
   ]
  },
  {
   "cell_type": "code",
   "execution_count": 1,
   "metadata": {},
   "outputs": [
    {
     "name": "stdout",
     "output_type": "stream",
     "text": [
      "Hello, my name is John and I am 30 years old.\n"
     ]
    }
   ],
   "source": [
    "const name = \"John\";\n",
    "const age = 30;\n",
    "\n",
    "const greeting = `Hello, my name is ${name} and I am ${age} years old.`;\n",
    "\n",
    "console.log(greeting); // Salida: Hello, my name is John and I am 30 years old.\n"
   ]
  },
  {
   "attachments": {},
   "cell_type": "markdown",
   "metadata": {},
   "source": [
    "### Insertando variables y expresiones en template literals:\n"
   ]
  },
  {
   "cell_type": "code",
   "execution_count": 2,
   "metadata": {},
   "outputs": [
    {
     "name": "stdout",
     "output_type": "stream",
     "text": [
      "10 + 5 = 15\n"
     ]
    }
   ],
   "source": [
    "const a = 10;\n",
    "const b = 5;\n",
    "\n",
    "const sum = `${a} + ${b} = ${a + b}`;\n",
    "\n",
    "console.log(sum); // Salida: 10 + 5 = 15"
   ]
  }
 ],
 "metadata": {
  "kernelspec": {
   "display_name": "JavaScript (Node.js)",
   "language": "javascript",
   "name": "javascript"
  },
  "language_info": {
   "file_extension": ".js",
   "mimetype": "application/javascript",
   "name": "javascript",
   "version": "12.22.9"
  },
  "orig_nbformat": 4
 },
 "nbformat": 4,
 "nbformat_minor": 2
}
